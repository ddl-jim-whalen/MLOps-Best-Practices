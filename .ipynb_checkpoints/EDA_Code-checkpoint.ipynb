{
 "cells": [
  {
   "cell_type": "code",
   "execution_count": null,
   "id": "2144e753-cb77-4f98-baf9-47ad203229fb",
   "metadata": {
    "tags": []
   },
   "outputs": [],
   "source": [
    "from domino.data_sources import DataSourceClient\n",
    "\n",
    "# instantiate a client and fetch the datasource instance\n",
    "object_store = DataSourceClient().get_datasource(\"domino-winequality-workshop\")\n",
    "\n",
    "# list objects available in the datasource\n",
    "objects = object_store.list_objects()\n",
    "\n",
    "## get content as binary\n",
    "# content = object_store.get(\"key\")\n",
    "\n",
    "## download content to file\n",
    "# object_store.download_file(\"key\", \"./path/to/local/file\")\n",
    "\n",
    "## Download content to file object\n",
    "# f = io.BytesIO()\n",
    "# object_store.download_fileobj(\"key\", f)"
   ]
  },
  {
   "cell_type": "code",
   "execution_count": null,
   "id": "6dc99360-6ed3-4ecb-ad81-6e18b8ad7673",
   "metadata": {},
   "outputs": [],
   "source": [
    "from domino.data_sources import DataSourceClient\n",
    "\n",
    "# instantiate a client and fetch the datasource instance\n",
    "ds = DataSourceClient().get_datasource(\"Snowflake_Demo\")\n",
    "\n",
    "# res is a simple wrapper of the query result\n",
    "res = ds.query(\"select * from WINE_RED\")\n",
    "\n",
    "# to_pandas() loads the result into a pandas dataframe\n",
    "df = res.to_pandas()"
   ]
  },
  {
   "cell_type": "code",
   "execution_count": null,
   "id": "62926a43-6745-4a59-a31c-710af7e9803d",
   "metadata": {
    "tags": []
   },
   "outputs": [],
   "source": [
    "from io import StringIO\n",
    "import pandas as pd\n",
    "\n",
    "s=str(object_store.get(\"WineQualityData.csv\"),'utf-8')\n",
    "data = StringIO(s) \n",
    "\n",
    "df=pd.read_csv(data)\n",
    "df.head()"
   ]
  },
  {
   "cell_type": "code",
   "execution_count": null,
   "id": "37aaa872-e295-42fa-9b8a-e00ef95c628a",
   "metadata": {
    "tags": []
   },
   "outputs": [],
   "source": [
    "import seaborn as sns\n",
    "import matplotlib.pyplot as plt\n",
    "df['is_red'] = df.type.apply(lambda x : int(x=='red'))\n",
    "fig = plt.figure(figsize=(10,10))\n",
    "sns.heatmap(df.corr(numeric_only=True), annot = True, fmt='.1g')"
   ]
  },
  {
   "cell_type": "code",
   "execution_count": null,
   "id": "ba11a8d2-3019-4104-808d-ebd49d0e48ce",
   "metadata": {
    "tags": []
   },
   "outputs": [],
   "source": [
    "corr_values = df.corr(numeric_only=True).sort_values(by = 'quality')['quality'].drop('quality',axis=0)\n",
    "important_feats=corr_values[abs(corr_values)>0.08]\n",
    "print(important_feats)\n",
    "sns.set_theme(style=\"darkgrid\")\n",
    "plt.figure(figsize=(16,5))\n",
    "plt.title('Feature Importance for Wine Quality')\n",
    "plt.ylabel('Pearson Correlation')\n",
    "sns.barplot(x=important_feats.keys(), y=important_feats.values, palette='seismic_r')"
   ]
  },
  {
   "cell_type": "code",
   "execution_count": null,
   "id": "92869c5f-8f6f-4ec7-a6a4-36833785c9ab",
   "metadata": {
    "tags": []
   },
   "outputs": [],
   "source": [
    "for i in list(important_feats.keys())+['quality']:\n",
    "    plt.figure(figsize=(8,5))\n",
    "    plt.title('Histogram of {}'.format(i))\n",
    "    sns.histplot(df[i], kde=True)"
   ]
  },
  {
   "cell_type": "code",
   "execution_count": null,
   "id": "cd856464-a1c6-480a-a18c-efd6d3820057",
   "metadata": {
    "tags": []
   },
   "outputs": [],
   "source": [
    "# Modify path to Domino Dataset for Git Based Project\n",
    "import os\n",
    "dataset_path = '/mnt/data/WineQuality-Git'\n",
    "path = str(dataset_path+'/WineQualityData.csv'.format(os.environ.get('DOMINO_PROJECT_NAME')))\n",
    "df.to_csv(path, index = False)"
   ]
  },
  {
   "cell_type": "code",
   "execution_count": null,
   "id": "5730bf5f-0697-4d34-b140-565c2a03ad7b",
   "metadata": {},
   "outputs": [],
   "source": []
  }
 ],
 "metadata": {
  "dca-init": "true",
  "kernelspec": {
   "display_name": "Python 3 (ipykernel)",
   "language": "python",
   "name": "python3"
  },
  "language_info": {
   "codemirror_mode": {
    "name": "ipython",
    "version": 3
   },
   "file_extension": ".py",
   "mimetype": "text/x-python",
   "name": "python",
   "nbconvert_exporter": "python",
   "pygments_lexer": "ipython3",
   "version": "3.9.18"
  }
 },
 "nbformat": 4,
 "nbformat_minor": 5
}
