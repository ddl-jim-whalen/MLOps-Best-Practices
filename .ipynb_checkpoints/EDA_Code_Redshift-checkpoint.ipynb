{
 "cells": [
  {
   "cell_type": "code",
   "execution_count": null,
   "id": "466c86c5-f701-4438-96a8-f598ddfdd3a9",
   "metadata": {},
   "outputs": [],
   "source": [
    "from domino.data_sources import DataSourceClient\n",
    "\n",
    "# instantiate a client and fetch the datasource instance\n",
    "ds = DataSourceClient().get_datasource(\"Redshift_Demo\")\n",
    "\n",
    "# res is a simple wrapper of the query result\n",
    "res = ds.query(\"select * from wine_quality_data\")\n",
    "\n",
    "# to_pandas() loads the result into a pandas dataframe\n",
    "df = res.to_pandas()\n",
    "df"
   ]
  },
  {
   "cell_type": "code",
   "execution_count": null,
   "id": "d3c0759a-a4e7-4139-ba53-3d319ed92551",
   "metadata": {},
   "outputs": [],
   "source": [
    "import seaborn as sns\n",
    "import matplotlib.pyplot as plt\n",
    "df['is_red'] = df.type.apply(lambda x : int(x=='red'))\n",
    "fig = plt.figure(figsize=(10,10))\n",
    "sns.heatmap(df.corr(numeric_only=True), annot = True, fmt='.1g')"
   ]
  },
  {
   "cell_type": "code",
   "execution_count": null,
   "id": "5d71b9af-8e49-49ea-b8e7-a4721ca856c4",
   "metadata": {},
   "outputs": [],
   "source": [
    "corr_values = df.corr(numeric_only=True).sort_values(by = 'quality')['quality'].drop('quality',axis=0)\n",
    "important_feats=corr_values[abs(corr_values)>0.08]\n",
    "print(important_feats)\n",
    "sns.set_theme(style=\"darkgrid\")\n",
    "plt.figure(figsize=(16,5))\n",
    "plt.title('Feature Importance for Wine Quality')\n",
    "plt.ylabel('Pearson Correlation')\n",
    "sns.barplot(x=important_feats.keys(), y=important_feats.values, palette='seismic_r')"
   ]
  },
  {
   "cell_type": "code",
   "execution_count": null,
   "id": "301aa5aa-f3f1-4877-b3f2-cecec3532595",
   "metadata": {},
   "outputs": [],
   "source": [
    "for i in list(important_feats.keys())+['quality']:\n",
    "    plt.figure(figsize=(8,5))\n",
    "    plt.title('Histogram of {}'.format(i))\n",
    "    sns.histplot(df[i], kde=True)"
   ]
  },
  {
   "cell_type": "code",
   "execution_count": null,
   "id": "120f5db6-09be-4d17-9d20-3bdba80f4970",
   "metadata": {},
   "outputs": [],
   "source": [
    "# Modify path to Domino Dataset for Git Based Project\n",
    "import os\n",
    "dataset_path = '/mnt/data/EDA-Project'\n",
    "path = str(dataset_path+'/WineQualityData.csv'.format(os.environ.get('DOMINO_PROJECT_NAME')))\n",
    "df.to_csv(path, index = False)"
   ]
  },
  {
   "cell_type": "code",
   "execution_count": null,
   "id": "fbaf2dec-5292-42aa-9e81-19496a3154bf",
   "metadata": {},
   "outputs": [],
   "source": []
  }
 ],
 "metadata": {
  "kernelspec": {
   "display_name": "Python 3 (ipykernel)",
   "language": "python",
   "name": "python3"
  },
  "language_info": {
   "codemirror_mode": {
    "name": "ipython",
    "version": 3
   },
   "file_extension": ".py",
   "mimetype": "text/x-python",
   "name": "python",
   "nbconvert_exporter": "python",
   "pygments_lexer": "ipython3",
   "version": "3.9.18"
  }
 },
 "nbformat": 4,
 "nbformat_minor": 5
}
